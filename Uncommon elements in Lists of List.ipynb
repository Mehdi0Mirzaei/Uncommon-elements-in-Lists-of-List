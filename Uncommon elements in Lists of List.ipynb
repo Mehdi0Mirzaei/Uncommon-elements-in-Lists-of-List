{
 "cells": [
  {
   "cell_type": "code",
   "execution_count": 5,
   "id": "48a4d0a3",
   "metadata": {},
   "outputs": [
    {
     "name": "stdout",
     "output_type": "stream",
     "text": [
      "The original list 1 : [[1, 2], [3, 4], [5, 6]]\n",
      "The original list 2 : [[3, 4], [5, 7], [1, 2]]\n",
      "The uncommon of two lists is : [[5, 6], [5, 7]]\n"
     ]
    }
   ],
   "source": [
    "# initializing lists\n",
    "test_list1 = [ [1, 2], [3, 4], [5, 6] ]\n",
    "test_list2 = [ [3, 4], [5, 7], [1, 2] ]\n",
    " \n",
    "# printing both lists\n",
    "print (\"The original list 1 : \" + str(test_list1))\n",
    "print (\"The original list 2 : \" + str(test_list2))\n",
    " \n",
    "# using naive method\n",
    "# Uncommon elements in List\n",
    "res_list = []\n",
    "for i in test_list1:\n",
    "    if i not in test_list2:\n",
    "        res_list.append(i)\n",
    "for i in test_list2:\n",
    "    if i not in test_list1:\n",
    "        res_list.append(i)\n",
    "         \n",
    "# printing the uncommon\n",
    "print (\"The uncommon of two lists is : \" + str(res_list))"
   ]
  },
  {
   "cell_type": "code",
   "execution_count": 6,
   "id": "10b772de",
   "metadata": {},
   "outputs": [
    {
     "name": "stdout",
     "output_type": "stream",
     "text": [
      "The original list 1 : [[1, 2], [3, 4], [5, 6]]\n",
      "The original list 2 : [[3, 4], [5, 7], [1, 2]]\n",
      "The uncommon of two lists is : [[5, 7], [5, 6]]\n"
     ]
    }
   ],
   "source": [
    "# initializing lists\n",
    "test_list1 = [ [1, 2], [3, 4], [5, 6] ]\n",
    "test_list2 = [ [3, 4], [5, 7], [1, 2] ]\n",
    " \n",
    "# printing both lists\n",
    "print (\"The original list 1 : \" + str(test_list1))\n",
    "print (\"The original list 2 : \" + str(test_list2))\n",
    " \n",
    "# using map() + set() + ^\n",
    "# Uncommon elements in Lists of List\n",
    "res_set = set(map(tuple, test_list1)) ^ set(map(tuple, test_list2))\n",
    "res_list = list(map(list, res_set))\n",
    " \n",
    "# printing the uncommon\n",
    "print (\"The uncommon of two lists is : \" + str(res_list))"
   ]
  },
  {
   "cell_type": "code",
   "execution_count": 8,
   "id": "ab39f613",
   "metadata": {},
   "outputs": [
    {
     "name": "stdout",
     "output_type": "stream",
     "text": [
      "The original list 1 : [[1, 2], [3, 4], [5, 6]]\n",
      "The original list 2 : [[3, 4], [5, 7], [1, 2]]\n",
      "The uncommon of two lists is : [[5, 6], [5, 7]]\n"
     ]
    }
   ],
   "source": [
    "# initializing lists\n",
    "test_list1 = [[1, 2], [3, 4], [5, 6]]\n",
    "test_list2 = [[3, 4], [5, 7], [1, 2]]\n",
    "# printing both lists\n",
    "print (\"The original list 1 : \" + str(test_list1))\n",
    "print (\"The original list 2 : \" + str(test_list2))\n",
    "res_list = [x for x in test_list1 if x not in test_list2] + [y for y in test_list2 if y not in test_list1]\n",
    "# printing the uncommon\n",
    "print(\"The uncommon of two lists is : \" + str(res_list))\n"
   ]
  },
  {
   "cell_type": "code",
   "execution_count": null,
   "id": "0c29797b",
   "metadata": {},
   "outputs": [],
   "source": []
  }
 ],
 "metadata": {
  "kernelspec": {
   "display_name": "Python 3 (ipykernel)",
   "language": "python",
   "name": "python3"
  },
  "language_info": {
   "codemirror_mode": {
    "name": "ipython",
    "version": 3
   },
   "file_extension": ".py",
   "mimetype": "text/x-python",
   "name": "python",
   "nbconvert_exporter": "python",
   "pygments_lexer": "ipython3",
   "version": "3.9.17"
  }
 },
 "nbformat": 4,
 "nbformat_minor": 5
}
